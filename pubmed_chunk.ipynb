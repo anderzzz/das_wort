{
 "cells": [
  {
   "cell_type": "markdown",
   "metadata": {},
   "source": [
    "# Text Source PubMed\n",
    "Pubmed is the database that collates a great deal of articles related to medical and biological research. The database can be programmatically accessed through APIs. Pubmed is not the publisher, however, and can only provide full text for certain open access articles. The Abstracts, however, are always available.\n",
    "\n",
    "The code below shows how search, abstract fetching and full-text fetching can be done. This enables the creation of large chunks of text that can be further analyzed or processed by NLP tools or LLMs etc.\n",
    "\n",
    "June 16, 2023, Anders Ohrn"
   ]
  },
  {
   "cell_type": "markdown",
   "metadata": {},
   "source": [
    "## Preliminaries\n",
    "A few installs, adjustments to Python, imports and constants are first handled. The first two code blocks may not be needed or should be customized to the user's setup."
   ]
  },
  {
   "cell_type": "code",
   "execution_count": 2,
   "metadata": {},
   "outputs": [
    {
     "name": "stdout",
     "output_type": "stream",
     "text": [
      "Requirement already satisfied: requests in /Users/andersohrn/opt/anaconda3/lib/python3.8/site-packages (2.27.1)\n",
      "Requirement already satisfied: certifi>=2017.4.17 in /Users/andersohrn/opt/anaconda3/lib/python3.8/site-packages (from requests) (2020.6.20)\n",
      "Requirement already satisfied: urllib3<1.27,>=1.21.1 in /Users/andersohrn/opt/anaconda3/lib/python3.8/site-packages (from requests) (1.26.10)\n",
      "Requirement already satisfied: charset-normalizer~=2.0.0; python_version >= \"3\" in /Users/andersohrn/opt/anaconda3/lib/python3.8/site-packages (from requests) (2.0.12)\n",
      "Requirement already satisfied: idna<4,>=2.5; python_version >= \"3\" in /Users/andersohrn/opt/anaconda3/lib/python3.8/site-packages (from requests) (2.10)\n",
      "Requirement already satisfied: numexpr in /Users/andersohrn/opt/anaconda3/lib/python3.8/site-packages (2.7.1)\n",
      "Requirement already satisfied: numpy>=1.7 in /Users/andersohrn/opt/anaconda3/lib/python3.8/site-packages (from numexpr) (1.18.5)\n"
     ]
    }
   ],
   "source": [
    "!python -m pip install requests\n",
    "!python -m pip install numexpr"
   ]
  },
  {
   "cell_type": "code",
   "execution_count": 3,
   "metadata": {},
   "outputs": [
    {
     "name": "stdout",
     "output_type": "stream",
     "text": [
      "['/Users/andersohrn/Development/das_wort', '/Users/andersohrn/opt/anaconda3/lib/python38.zip', '/Users/andersohrn/opt/anaconda3/lib/python3.8', '/Users/andersohrn/opt/anaconda3/lib/python3.8/lib-dynload', '', '/Users/andersohrn/river_chatgpt/river_gpt/lib/python3.8/site-packages', '/Users/andersohrn/opt/anaconda3/lib/python3.8/site-packages']\n"
     ]
    }
   ],
   "source": [
    "import sys\n",
    "sys.path.append('/Users/andersohrn/opt/anaconda3/lib/python3.8/site-packages')\n",
    "print (sys.path)"
   ]
  },
  {
   "cell_type": "code",
   "execution_count": 4,
   "metadata": {},
   "outputs": [],
   "source": [
    "from typing import Optional, List\n",
    "from datetime import date\n",
    "\n",
    "import json\n",
    "import requests\n",
    "from xml.etree import ElementTree as ET"
   ]
  },
  {
   "cell_type": "code",
   "execution_count": 5,
   "metadata": {},
   "outputs": [],
   "source": [
    "PUBMED_APIs = {\n",
    "    'standard' : {\n",
    "        'base_url': 'https://eutils.ncbi.nlm.nih.gov/entrez/eutils/',\n",
    "        'apis': {\n",
    "            'search' : 'esearch.fcgi',\n",
    "            'fetch' : 'efetch.fcgi'\n",
    "        }\n",
    "    },\n",
    "    'open_access': {\n",
    "        'base_url': 'https://www.ncbi.nlm.nih.gov/research/bionlp/RESTful/pmcoa.cgi/BioC_json/'\n",
    "    }\n",
    "}"
   ]
  },
  {
   "cell_type": "markdown",
   "metadata": {},
   "source": [
    "## Search PubMed API\n",
    "PubMed searches can be done through an API. A special syntax is used documented at length here: https://www.ncbi.nlm.nih.gov/books/NBK25499/. A great deal of NIHs databases uses these Entrez utilities. For PubMed only a subset is relevant.\n",
    "\n",
    "A basic search term is constructed by the helper function, which can be extended if needed. Advanced custom search terms can be created here: https://pubmed.ncbi.nlm.nih.gov/advanced/.\n",
    "\n",
    "The next code cell should create a string `search_term` that represents a query to the PubMed database."
   ]
  },
  {
   "cell_type": "code",
   "execution_count": 6,
   "metadata": {},
   "outputs": [],
   "source": [
    "def create_basic_search_term(all_fields: Optional[str]=None,\n",
    "                             author: Optional[str]=None, \n",
    "                             title: Optional[str]=None, \n",
    "                             abstract: Optional[str]=None, \n",
    "                             published_after_date: Optional[date]=None):\n",
    "    term = []\n",
    "    if not all_fields is None:\n",
    "        term.append('{}[All Fields]'.format(all_fields))\n",
    "    if not author is None:\n",
    "        term.append('{}[Author]'.format(author))\n",
    "    if not title is None:\n",
    "        term.append('{}[Title]'.format(title))\n",
    "    if not abstract is None:\n",
    "        term.append('{}[Title/Abstract]'.format(abstract))\n",
    "    if not published_after_date is None:\n",
    "        term.append('{}[Date]'.format(FOOBAR(published_after_date)))\n",
    "        \n",
    "    if len(term) == 0:\n",
    "        raise ValueError('No input values given')\n",
    "        \n",
    "    return '+AND+'.join(term)\n",
    "\n",
    "search_term = create_basic_search_term(title='HER2-positive', author='Akihito Kawazoe')\n",
    "#search_term = create_basic_search_term(title='HER2-positive', author='Smith')\n",
    "search_term = create_basic_search_term(all_fields='HER2')"
   ]
  },
  {
   "cell_type": "markdown",
   "metadata": {},
   "source": [
    "Given the search term, the function `do_search_via_api` joins the search term to the appropriate parts in order to generate a URL that calls the external Web API and returns the payload, stored in `pubmed_object`. \n",
    "\n",
    "It is possible a search returns a very large number of IDs. To govern how many of the IDs are returned, `retmax` and `retstart` can be set."
   ]
  },
  {
   "cell_type": "code",
   "execution_count": 7,
   "metadata": {},
   "outputs": [
    {
     "name": "stdout",
     "output_type": "stream",
     "text": [
      "URL to call: https://eutils.ncbi.nlm.nih.gov/entrez/eutils/esearch.fcgi?db=pubmed&term=HER2-positive&retmax=100&retstart=0\n"
     ]
    }
   ],
   "source": [
    "def do_search_via_api(search_term: str, retmax: int=20, retstart:int=0):\n",
    "    url = '{}{}?db=pubmed'.format(\n",
    "        PUBMED_APIs['standard']['base_url'], \n",
    "        PUBMED_APIs['standard']['apis']['search']\n",
    "    )\n",
    "    url_full = '{}&term={}&retmax={}&retstart={}'.format(url, search_term, retmax, retstart)\n",
    "    print('URL to call: {}'.format(url_full))\n",
    "    \n",
    "    r = requests.get(url=url_full)\n",
    "    if r.status_code != 200:\n",
    "        print ('Status code {} received!'.format(status_code))\n",
    "        print ('Error message: {}'.format(r.content))\n",
    "        \n",
    "    return r.content\n",
    "\n",
    "#pubmed_object = do_search_via_api(search_term)\n",
    "pubmed_object = do_search_via_api(search_term, retmax=100)\n",
    "#pubmed_object = do_search_via_api(search_term, retmax=20, retstart=20)"
   ]
  },
  {
   "cell_type": "markdown",
   "metadata": {},
   "source": [
    "The return object is an XML file. Its format can be inspected after parsing the XML file or sometimes by visualizing the XML file in a web browser. The key part of interest is the list of PubMed IDs."
   ]
  },
  {
   "cell_type": "code",
   "execution_count": 8,
   "metadata": {},
   "outputs": [
    {
     "name": "stdout",
     "output_type": "stream",
     "text": [
      "Found 9282 matching PubMed objects. Return 100 of them.\n",
      "List of returned PubMed IDs: ['37348349', '37346044', '37345001', '37343894', '37342184', '37341815', '37340843', '37338513', '37337299', '37336650', '37335880', '37333824', '37332338', '37332328', '37331637', '37331526', '37331014', '37329891', '37328285', '37327700', '37327257', '37326930', '37325934', '37324228', '37322978', '37318852', '37318379', '37317607', '37314204', '37304544', '37303973', '37302750', '37302393', '37300985', '37299548', '37296873', '37295176', '37291377', '37289321', '37289145', '37286557', '37284715', '37279780', '37276871', '37275938', '37274273', '37273150', '37268625', '37268505', '37267721', '37267036', '37266600', '37266479', '37265453', '37264567', '37264417', '37264298', '37264265', '37264184', '37263678', '37263554', '37258548', '37258524', '37258523', '37256703', '37255389', '37254964', '37251081', '37247580', '37246901', '37246414', '37240498', '37233208', '37232839', '37232838', '37232822', '37230842', '37230055', '37229642', '37229627', '37227737', '37227708', '37223020', '37221356', '37219390', '37218076', '37212690', '37208251', '37207306', '37204204', '37202799', '37198642', '37197725', '37193463', '37191763', '37190205', '37188173', '37185860', '37184432', '37183644']\n"
     ]
    }
   ],
   "source": [
    "root = ET.fromstring(pubmed_object)\n",
    "n_found = root.find('./Count').text\n",
    "n_retmax = root.find('./RetMax').text\n",
    "n_retstart = root.find('./RetStart').text\n",
    "pubmed_ids = [x.text for x in root.findall('.//Id')]\n",
    "\n",
    "print('Found {} matching PubMed objects. Return {} of them.'.format(n_found, n_retmax))\n",
    "print('List of returned PubMed IDs: {}'.format(pubmed_ids))"
   ]
  },
  {
   "cell_type": "markdown",
   "metadata": {},
   "source": [
    "## Abstract Fetching\n",
    "For practically all articles, there is an abstract freely available. It can be retrieved for articles given their PubMed IDs. This uses the PubMed API, but a different endpoint than for search. The function `get_abstract_via_api` joins a list of PubMed IDs with the other parts of the API, issues the request to the Web API and (if successful) returns the Pubmed Abstract object."
   ]
  },
  {
   "cell_type": "code",
   "execution_count": 187,
   "metadata": {},
   "outputs": [
    {
     "name": "stdout",
     "output_type": "stream",
     "text": [
      "URL to call: https://eutils.ncbi.nlm.nih.gov/entrez/eutils/efetch.fcgi?db=pubmed&rettype=Abstract&id=34912120\n",
      "API call completed with status code 200\n"
     ]
    }
   ],
   "source": [
    "def get_abstracts_via_api(ids: List[str]):\n",
    "    url = '{}{}?db=pubmed'.format(\n",
    "        PUBMED_APIs['standard']['base_url'], \n",
    "        PUBMED_APIs['standard']['apis']['fetch']\n",
    "    )\n",
    "    url_full = '{}&rettype=Abstract&id={}'.format(url, ','.join(ids))\n",
    "    print('URL to call: {}'.format(url_full))\n",
    "    \n",
    "    r = requests.get(url=url_full)\n",
    "    print ('API call completed with status code {}'.format(r.status_code))\n",
    "        \n",
    "    return r.content\n",
    "\n",
    "pubmed_abstract_object = get_abstracts_via_api(ids=pubmed_ids)"
   ]
  },
  {
   "cell_type": "markdown",
   "metadata": {},
   "source": [
    "The Abstract object is a great deal more convoluted than the search object. It contains a lot of additional information, like author metadata, references, journal data etc. This is an XML file that requires a fair bit of inspection to retrieve the desired data. The XML file can be visualized typically in browsers, so click the HTTPS URL from the previous code block. \n",
    "\n",
    "In the next code block only the AbstractText is obtained. This is complicated by that Abstracts can contain references which are represented as tags within the text. Other issues may be possible."
   ]
  },
  {
   "cell_type": "code",
   "execution_count": 188,
   "metadata": {},
   "outputs": [],
   "source": [
    "root = ET.fromstring(pubmed_abstract_object)"
   ]
  },
  {
   "cell_type": "code",
   "execution_count": 189,
   "metadata": {},
   "outputs": [
    {
     "name": "stdout",
     "output_type": "stream",
     "text": [
      "{'34912120': 'Human epidermal growth factor receptor 2 (HER2,\\xa0also known as ERBB2) amplification or overexpression occurs in approximately 20% of advanced gastric or gastro-oesophageal junction adenocarcinomas1-3. More than a decade ago, combination therapy with the anti-HER2 antibody trastuzumab and chemotherapy became the standard first-line treatment for patients with these types of tumours4. Although adding the anti-programmed death 1 (PD-1) antibody pembrolizumab to chemotherapy does not significantly improve efficacy in advanced HER2-negative gastric cancer5, there are preclinical6-19 and clinical20,21 rationales for adding pembrolizumab in HER2-positive disease. Here we describe results of the protocol-specified first interim analysis of the randomized, double-blind, placebo-controlled phase III KEYNOTE-811 study of pembrolizumab plus trastuzumab and chemotherapy for unresectable or metastatic, HER2-positive gastric or gastro-oesophageal junction adenocarcinoma22 ( https://clinicaltrials.gov , NCT03615326). We show that adding pembrolizumab to trastuzumab and chemotherapy markedly reduces tumour size, induces complete responses in some participants, and significantly improves objective response rate.'}\n"
     ]
    }
   ],
   "source": [
    "# Function to extract text recursively from an element\n",
    "def extract_text(element):\n",
    "    text = element.text or ''\n",
    "    for child in element:\n",
    "        text += extract_text(child)\n",
    "    text += element.tail or ''\n",
    "    return text\n",
    "\n",
    "\n",
    "# Find the AbstractText element and extract its text content, associate with the PubMed ID key\n",
    "abstract_texts = {}\n",
    "pubmed_articles = root.findall('.//PubmedArticle')\n",
    "for article in pubmed_articles:\n",
    "    pubmed_element = article.find(\".//ArticleId[@IdType='pubmed']\")\n",
    "    \n",
    "    abstract_text = []\n",
    "    for abstract_element in article.findall('.//Abstract'):\n",
    "        text = ''\n",
    "        for abstract_text_element in abstract_element.findall('./AbstractText'):\n",
    "            text += extract_text(abstract_text_element)\n",
    "        \n",
    "        abstract_text.append(text)\n",
    "    abstract_texts[pubmed_element.text] = '\\n'.join(abstract_text)\n",
    "    \n",
    "\n",
    "# Print the extracted texts\n",
    "print (abstract_texts)"
   ]
  },
  {
   "cell_type": "markdown",
   "metadata": {},
   "source": [
    "## Full Text Open Access\n",
    "The full text of articles are copyrighted and owned by publishing houses, Elsevier, Springer etc. Open access to the full text is therefore not guaranteed. PubMed does however compile the open access article subset accessible through a different API. "
   ]
  },
  {
   "cell_type": "code",
   "execution_count": 191,
   "metadata": {},
   "outputs": [
    {
     "name": "stdout",
     "output_type": "stream",
     "text": [
      "URL to call: https://www.ncbi.nlm.nih.gov/research/bionlp/RESTful/pmcoa.cgi/BioC_json/34912120/unicode\n",
      "API call completed with status code 200\n"
     ]
    }
   ],
   "source": [
    "def get_fulltext_via_api(pid: str):\n",
    "    url = '{}'.format(PUBMED_APIs['open_access']['base_url'])\n",
    "    url_full = '{}{}/unicode'.format(url, pid)\n",
    "    print('URL to call: {}'.format(url_full))\n",
    "    \n",
    "    r = requests.get(url=url_full)\n",
    "    print ('API call completed with status code {}'.format(r.status_code))\n",
    "        \n",
    "    return r.content\n",
    "\n",
    "fulltext_data = get_fulltext_via_api('34912120')\n",
    "fulltext_data = json.loads(fulltext_data)"
   ]
  },
  {
   "cell_type": "markdown",
   "metadata": {},
   "source": [
    "The `fulltext_data` dictionary contains the fulltext (if in the open access subset). It is a big and highly nested dictionary from which text can be extracted. The code below is an illustrative example of how a particular subset of text can be retrieved for further processing by NLP tools or LLMs."
   ]
  },
  {
   "cell_type": "code",
   "execution_count": 192,
   "metadata": {},
   "outputs": [
    {
     "name": "stdout",
     "output_type": "stream",
     "text": [
      "Combined PD-1 and HER2 blockade for HER2-positive gastric cancer\n",
      "SUMMARY\n",
      "Human epidermal growth factor receptor 2 (ERBB2/HER2) amplification or overexpression occurs in approximately 20% of advanced gastric or gastroesophageal junction adenocarcinomas. Over a decade ago, combination therapy with the anti–HER2 antibody trastuzumab and chemotherapy became the standard first-line treatment for these patients. Although adding the anti–programmed death 1 (PD-1) antibody pembrolizumab to chemotherapy does not significantly improve efficacy in advanced HER2-negative gastric cancer, there are preclinical and clinical rationales for adding pembrolizumab in HER2-positive disease. Here we describe results of the protocol-specified first interim analysis of the randomized, double-blind, placebo-controlled phase III KEYNOTE-811 study of pembrolizumab plus trastuzumab and chemotherapy for unresectable or metastatic, HER2-positive gastric or gastroesophageal junction adenocarcinoma (ClinicalTrials.gov, NCT03615326). We show that adding pembrolizumab to trastuzumab and chemotherapy dramatically reduces tumour size, induces complete responses in some participants, and significantly improves objective response rate.\n",
      "A pre-existing immune response to tumour antigens is associated with clinical activity of immune checkpoint blockade. Enabling such a response through use of tumour-targeting antibodies for facilitation of cross-priming or chemotherapeutic agents for inducing immunogenic cell death or reducing immune suppressive populations is a logical next step in the development of combinatorial anticancer therapies. In preclinical models and patient-derived samples, trastuzumab increases HER2 internalization and cross-presentation by dendritic cells, which in turn stimulates HER2-specific T-cell responses. Trastuzumab has also been shown to upregulate expression of PD-1 and its ligand, PD-L1, induce expression of tumour-infiltrating lymphocytes, and modulate expression of major histocompatibility complex class II. Following treatment with oxaliplatin, dying cancer cells can stimulate dendritic cells, which enhances antigen processing and presentation and facilitates priming of CD8+ tumour-specific T cells. Coadministration of immune checkpoint inhibitors and trastuzumab has been shown to enhance HER2-specific T-cell responses, promote immune cell trafficking, and induce expansion of peripheral memory T cells. The possible mechanistic interaction of these modalities has been demonstrated in a HER2-positive transgenic mouse model in which dual inhibition of PD-1 and HER2 resulted in tumour eradication.\n",
      "Clinical efficacy and manageable safety for the combination of pembrolizumab, trastuzumab, and chemotherapy in patients with HER2-positive advanced oesophageal, gastroesophageal, or gastric adenocarcinoma have been demonstrated in two single-arm, phase II studies. To further study the combination, we conducted the randomized, double-blind, phase III KEYNOTE-811 trial of pembrolizumab or placebo in combination with trastuzumab and the investigator’s choice of chemotherapy with 5-fluorouracil and cisplatin or capecitabine and oxaliplatin in participants with previously untreated unresectable or metastatic, HER2-positive gastric or gastroesophageal junction adenocarcinoma (ClinicalTrials.gov, NCT03615326). We present results of the protocol-specified first interim analysis of objective response rate for the first 264 participants enrolled (efficacy population) and safety for all enrolled participants who received at least one dose of study treatment as of the June 17, 2020, data cutoff (as-treated population).\n",
      "Of the 434 participants randomly allocated to treatment between October 5, 2018, and June 17, 2020 (intention-to-treat population), 433 received at least one dose of study therapy—217 of 217 allocated to the pembrolizumab group and 216 of 217 allocated to the placebo group—and were included in the as-treated population. The efficacy population included 133 participants in the pembrolizumab group and 131 in the placebo group. The median (range) study follow-up, defined as the time from randomization to the June 17, 2020, data cutoff was 9.9 months (0.1–19.4) in the intention-to-treat population and 12.0 months (8.5–19.4) in the efficacy population. Calculations of follow-up duration that account for participant death are found in Extended Data Table 1. The disposition for both populations is shown in Extended Data Table 2. Baseline characteristics were as expected and generally balanced between groups in both populations (Extended Data Table 3). In the intention-to-treat population, 81.3% of participants were male, 68.4% had primary tumours in the stomach, 50.2% had an intestinal histologic subtype, and 80.6% had HER2 immunohistochemistry 3+ tumours. The chosen chemotherapy regimen was capecitabine plus oxaliplatin for 86.6% of participants and 5-fluorouracil plus cisplatin for the remaining 13.4%.\n",
      "In the efficacy population, we observed an objective response rate assessed per Response Evaluation Criteria in Solid Tumors (RECIST), version 1.1, by blinded, independent central review of 74.4% (95% CI, 66.2–81.6) in the pembrolizumab group and of 51.9% (95% CI, 43.0–60.7) in the placebo group. This resulted in a statistically significant 22.7% improvement in objective response rate in the pembrolizumab group (95% CI, 11.2–33.7; P=0.00006). We found that treatment differences in key participant subgroups were generally consistent with that of the total population (Extended Data Fig. 1). Responses in the pembrolizumab group were also deeper than those in the placebo group (median change from baseline, –65% vs –49%; ≥80% decrease from baseline, 32.3% vs 14.8%) (Fig. 1), and complete responses were more frequent (11.3% vs 3.1%) (Table 1). Among responders, 50.5% in the pembrolizumab group and 44.1% in the placebo group had ongoing response at data cutoff. By Kaplan-Meier estimation, 70.3% of responders in the pembrolizumab group and 61.4% of responders in the placebo group had response duration of at least 6 months and 58.4% and 51.1%, respectively, had response duration of at least 9 months; median response duration was 10.6 months (range, 1.1+ to 16.5+) in the pembrolizumab group and 9.5 months (range, 1.4+ to 15.4+) in the placebo group.\n",
      "In the as-treated population, median (range) treatment duration was 6.2 months (2 days-17.7 months) in the pembrolizumab group and 5.3 months (1 day-17.8 months) in the placebo group. We observed a similar incidence of adverse events in the pembrolizumab and placebo groups; adverse events were of grade 3–5 severity in 57.1% of participants in the pembrolizumab group versus 57.4% in the placebo group and led to discontinuation of any study treatment in 24.4% versus 25.9% (Table 2). The most common adverse events in both groups were diarrhoea (52.5% in the pembrolizumab group vs 44.4% in the placebo group), nausea (48.8% vs 44.4%), and anaemia (41.0% vs 44.0%) (Extended Data Table 4). Adverse events with a possibly immune-mediated cause and/or infusion reactions occurred in 33.6% and 20.8% of participants, respectively; the most common of these events in the pembrolizumab group were infusion-related reactions (18.0% vs 13.0% in the placebo group) and pneumonitis (5.1% vs 1.4%) (Extended Data Table 5). Seven (3.2%) participants in the pembrolizumab group and 10 (4.6%) in the placebo group died from adverse events; these were attributed to study treatment by investigators in two (0.9%) participants in each group and were considered immune-mediated in three (1.4%) and 1 (0.5%) participants, respectively (Extended Data Table 6).\n",
      "Discussion\n",
      "Results of this protocol-specified first interim analysis of KEYNOTE-811 show that adding pembrolizumab to standard therapy with trastuzumab and chemotherapy results in a statistically significant, clinically meaningful improvement in objective response rate compared with trastuzumab and chemotherapy alone as first-line therapy for unresectable or metastatic, HER2-positive gastric or gastroesophageal junction adenocarcinoma. We also found responses in the pembrolizumab group to be deeper and more durable. The safety profile of pembrolizumab plus trastuzumab and chemotherapy was manageable. The observed adverse events were as expected based on previous studies of pembrolizumab and trastuzumab plus chemotherapy, with no new events identified for the combination. Based on these findings, the United States Food and Drug Administration approved pembrolizumab in combination with trastuzumab and fluoropyrimidine- and platinum-containing chemotherapy for first-line treatment of locally advanced or unresectable or metastatic HER2-positive gastric or gastroesophageal junction adenocarcinoma. KEYNOTE-811 is continuing as planned, and results for the primary end points of overall and progression-free survival will be assessed at a later date in accordance with the statistical analysis plan.\n",
      "Several phase III trials have studied the addition of PD-1 inhibitors to first-line chemotherapy in patients with HER2-negative advanced gastric or gastroesophageal cancer. In these studies, objective response rate in the combination groups ranged from 49% to 60%, representing an improvement of approximately 10% to 15% by adding a PD-1 inhibitor. The 74.4% objective response rate observed when adding pembrolizumab to trastuzumab and chemotherapy in KEYNOTE-811, representing a 22.7% improvement versus trastuzumab and chemotherapy, supports preclinical data suggesting that there may be synergy between dual HER2 and PD-1 inhibition.\n",
      "To support biomarker analyses, we required all participants in KEYNOTE-811 to provide tissue samples at baseline and included optional collection of an on-treatment biopsy sample; blood samples for biomarker assessment are also captured throughout treatment to support analysis of genetic, plasma, and serum biomarkers and circulating tumour DNA. To-date, the only biomarkers we have explored are MSI-high status and PD-L1 expression. Three participants (0.7%) in the intention-to-treat population were known to have MSI-high tumours, a molecularly defined subset of gastric cancer associated with a great likelihood of response to PD-1 inhibitors. This low frequency is not surprising because HER2-positive tumours are characterized by chromosomal instability and lower tumour mutational burden. PD-L1 expression has been shown to correlate with efficacy of pembrolizumab monotherapy in gastric cancer. In KEYNOTE-811, 84.1% of participants had a PD-L1 combined positive score of ≥1. We observed a greater difference in objective response rate in participants with PD-L1 combined positive score ≥1, although the 95% confidence intervals for the combined positive score ≥1 and <1 subgroups overlapped. It will be interesting to see whether the relative benefit of pembrolizumab plus trastuzumab and chemotherapy for overall survival will be impacted by PD-L1 expression.\n",
      "These promising initial findings of KEYNOTE-811 suggest that the combination of pembrolizumab, trastuzumab, and chemotherapy may be a transformative treatment option for HER2-positive gastric or gastroesophageal junction adenocarcinoma and support exploring the combination in patients with earlier stages of disease. As an example of this approach, an ongoing phase II study is exploring the role of pembrolizumab and trastuzumab as adjuvant therapy for patients with HER2-positive oesophageal or gastric cancer with minimal residual disease (NCT04510285).\n",
      "METHODS\n",
      "Study Design and Participants\n",
      "KEYNOTE-811 is a global randomized, double-blind, placebo-controlled, phase III study designed to assess the efficacy and safety of adding pembrolizumab to standard-of-care therapy with trastuzumab and platinum-based chemotherapy as first-line therapy for HER2-positive advanced gastric or gastroesophageal cancer (ClinicalTrials.gov identifier, NCT03615326) being conducted at 168 medical centres in Australia, Brazil, Chile, China, France, Germany, Guatemala, Ireland, Israel, Italy, Japan, New Zealand, Poland, Russia, South Korea, Spain, Turkey, the United Kingdom, and the United States (Supplementary Information). The study was designed by academic advisors and employees of the study sponsor. An external data and safety monitoring committee oversees the trial by periodically assessing safety and assessing efficacy at prespecified interim analyses. The study protocol and all amendments were approved by the appropriate ethics body at each participating study centre (Supplementary Information). All participants provided written informed consent. This ongoing study is being conducted in accordance with Good Clinical Practice guidelines.\n",
      "Full eligibility criteria have been published. Briefly, eligible participants are aged 18 years or older; have previously untreated, unresectable or metastatic, histologically or cytologically confirmed adenocarcinoma of the stomach or gastroesophageal junction that is HER2-positive as assessed by central review; have measurable disease per RECIST, version 1.1, as assessed by the investigator; have ECOG performance-status score of 0 or 1; have life expectancy of more than 6 months; have adequate organ function; and have provided a tumour sample adequate for assessment of programmed death ligand 1 (PD-L1) and microsatellite instability (MSI) status.\n",
      "Randomization and Treatment\n",
      "Participants are randomly allocated in a 1:1 ratio to receive either pembrolizumab at a dose of 200 mg or placebo (normal saline or dextrose), both administered intravenously once every 3 weeks, by means of an integrated interactive voice-response and Web-response system. Randomization is stratified by geographic region (Australia/Europe/Israel/North America vs Asia vs rest of world), PD-L1 combined positive score (≥1 vs <1), and investigator’s choice of chemotherapy (5-fluorouracil plus cisplatin vs capecitabine plus oxaliplatin). In the global cohort, all participants receive trastuzumab at a dose of 6 mg per kilogram of body weight intravenously once every 3 weeks following an initial loading dose of 8 mg per kilogram and either 5-flurouracil (800 mg per square meter of body-surface area administered intravenously on days 1–5 of each 3-week cycle) and cisplatin (80 mg per square meter administered intravenously once every 3 weeks) or capecitabine (1000 mg per square meter administered orally twice daily on days 1–14 of each 3-week cycle) and oxaliplatin (130 mg per square meter administered intravenously once every 3 weeks). All treatment is continued for up to 35 cycles (~2 years) or until disease progression, unacceptable toxic effects, investigator decision, or participant withdrawal of consent. If toxicity is clearly attributed to one drug, that drug alone may be discontinued.\n",
      "Assessments\n",
      "HER2 status is assessed during screening at a central laboratory using immunohistochemistry (IHC) (Dako HercepTest™) and fluorescence in situ hybridization (FISH) (Dako HER2 FISH pharmDx™ Kit). HER2 positivity was defined as IHC 3+ or IHC 2+ with positive ISH or FISH, with ISH and FISH positivity defined as a ratio of ≥2.0 for the number of HER2 copies to the number of signals for CEP17; a ratio of <2.0 was considered positive if the HER2 copy number was >6. PD-L1 expression in formalin-fixed tumour samples is assessed during screening at a central laboratory using the PD-L1 IHC 22C3 pharmDx assay (Agilent Technologies, Inc.) and characterized according to the combined positive score, calculated as the number of PD-L1–staining cells (tumour cells, lymphocytes, macrophages) divided by the total number of viable tumour cells, multiplied by 100; a minimum of 100 viable tumour cells must be present for a sample to be considered evaluable. MSI status is determined centrally by polymerase chain reaction using the MSI Analysis System, version 1.2 (Promega) and characterized as MSI-high if 2 or more markers are changed compared to normal controls. Tumour imaging by computed tomography (preferred) or magnetic resonance imaging is scheduled for week 6 and every 6 weeks thereafter. Response is assessed according to RECIST, version 1.1, by blinded independent central review for determination of study endpoints and according to iRECIST by the investigator to inform treatment decisions. Adverse events and laboratory abnormalities are collected regularly during study treatment and for up to 30 days thereafter (up to 90 days for serious adverse events), classified according to the Medical Dictionary for Regulatory Affairs, version 23.0, and graded according to the National Cancer Institute Common Terminology Criteria for Adverse Events, version 4.03. Following treatment discontinuation, participants are assessed for survival every 12 weeks.\n",
      "Statistical Analysis\n",
      "The dual primary endpoints are progression-free survival assessed per RECIST, version 1.1, by blinded independent central review and overall survival. Secondary end points are objective response and duration of response assessed per RECIST, version 1.1, by blinded independent central review and safety. Efficacy is assessed in all randomly allocated participants according to the allocated treatment. Safety is assessed in the as-treated population (i.e., all randomly allocated participants who received ≥1 dose of study treatment according to the treatment received).\n",
      "The full statistical analysis plan specifies the performance of three interim analyses and a final analysis. An extension of the graphical method of Mauer and Bretz is used to control the family-wise type I error rate at a one-sided α=0.025 across all hypotheses and interim analyses. Planned enrolment in the global cohort is 692 participants and is based on the following assumptions: an enrolment period of 28 months and a ramp-up enrolment period of 6 months; the duration of progression-free survival and overall survival follows an exponential distribution; median progression-free survival is 6.7 months in the placebo group and the true hazard ratio is 0.7; and median overall survival is 13.8 months in the placebo group and the true hazard ratio is 0.75. Per protocol, the first interim analysis was to be performed when the first 260 participants enrolled had at least 8.5 months of follow-up and was to test the objective response hypothesis. With approximately 260 participants, the study has approximately 90% power to detect a difference in objective response of 25 percentage points (73% vs 48%) favouring the pembrolizumab group at one-sided α=0.002. Power and interim analysis calculations were performed using the gsDesign R package version 3.0.1.\n",
      "Study data were captured in InForm version 4.6 (Oracle). All statistical analyses were performed using SAS version 9.4 (SAS Institute, Inc.). No data from the specified analysis populations were excluded from analysis. The difference in objective response and its 95% CI were calculated using the Miettinen and Nurminen method stratified by the randomization stratification factors of geographic region (Australia/Europe/Israel/North America vs Asia vs rest of world), PD-L1 combined positive score (≥1 vs <1), and investigator’s choice of chemotherapy (5-fluorouracil plus cisplatin vs capecitabine plus oxaliplatin) with strata weighting by sample size. Duration of response was estimated using the Kaplan-Meier method. All reported data are based on the first interim analysis, which had a data cutoff of June 17, 2020.\n",
      "Extended Data\n",
      "Treatment difference in objective response in subgroups of the efficacy population.\n",
      "Response was assessed per RECIST, version 1.1, by blinded, independent central review. The estimated treatment difference between the pembrolizumab and placebo groups in the overall population was calculated using the Miettinen and Nurminen method stratified by geographic region (Australia/Europe/Israel/North America [Aus/Eur/Isr/NAm] vs Asia vs rest of world), PD-L1 combined positive score ([CPS]; ≥1 vs <1), and chemotherapy choice (5-fluorouracil plus cisplatin [FP] vs capecitabine plus oxaliplatin [CAPOX]); differences in subgroups were calculated using the unstratified Miettinen and Nurminen method. The efficacy population included the first 264 participants randomly allocated to treatment. The treatment regimen included trastuzumab and chemotherapy in both groups. Diamonds represent the estimated treatment difference in objective response, the error bars represent the 95% confidence interval (CI) of the estimated treatment difference, and the region shaded in dark grey represents the 95% CI for the treatment difference in the overall population. ECOG, Eastern Cooperative Oncology Group; GEJ, gastroesophageal junction; IHC, immunohistochemistry; ISH, in situ hybridization.\n",
      "Supplementary Material\n",
      "Reprints and permissions information is available at www.nature.com/reprints.\n",
      "Supplementary Information is available for this paper.\n",
      "Data Availability\n",
      "Merck Sharp & Dohme Corp., a subsidiary of Merck & Co., Inc., Kenilworth, NJ, USA (MSD) is committed to providing qualified scientific researchers access to anonymized data and clinical study reports from the company’s clinical trials for the purpose of conducting legitimate scientific research. MSD is also obligated to protect the rights and privacy of trial participants and, as such, has a procedure in place for evaluating and fulfilling requests for sharing company clinical trial data with qualified external scientific researchers. The MSD data sharing website (available at: http://engagezone.msd.com/ds_documentation.php) outlines the process and requirements for submitting a data request. Feasible requests will be reviewed by a committee of MSD subject matter experts to assess the scientific validity of the request and the qualifications of the requestors. In line with data privacy legislation, submitters of approved requests must enter into a standard data-sharing agreement with MSD before data access is granted. Data will be made available for request after product approval in the US and EU or after product development is discontinued; an exception will be made for this ongoing trial such that data will be made available for request after the protocol-specified primary endpoint analyses have been reported. There are circumstances that may prevent MSD from sharing requested data, including country or region-specific regulations. If the request is declined, it will be communicated to the investigator. Access to genetic or exploratory biomarker data requires a detailed statistical analysis plan that is collaboratively developed by the requestor and MSD subject matter experts; after approval of the statistical analysis plan and execution of a data-sharing agreement, MSD will either perform the proposed analyses and share the results with the requestor or will construct biomarker covariates and add them to a file with clinical data that is uploaded to a SAS portal so that the requestor can perform the proposed analyses.\n",
      "Methods References\n",
      "Best percentage change from baseline in the size of target lesions among participants in the efficacy population.\n",
      "(a) pembrolizumab group; (b) placebo group. Only those participants in the efficacy population who had RECIST-measurable disease at baseline and at least one evaluable post-baseline measurement are evaluable for change from baseline (N=124 in the pembrolizumab group, N=122 in the chemotherapy group). The treatment regimen included trastuzumab and chemotherapy in both groups. Increases from baseline greater than 100% were truncated at 100%.\n"
     ]
    }
   ],
   "source": [
    "text_total = []\n",
    "for passage in fulltext_data['documents'][0]['passages']:\n",
    "    section_type = passage['infons']['section_type']\n",
    "    if section_type in ['TABLE', 'REF']:\n",
    "        continue\n",
    "        \n",
    "    text_paragraph = passage['text']\n",
    "    text_total.append(text_paragraph)\n",
    "full_text = '\\n'.join(text_total)\n",
    "print (full_text)"
   ]
  },
  {
   "cell_type": "code",
   "execution_count": null,
   "metadata": {},
   "outputs": [],
   "source": []
  }
 ],
 "metadata": {
  "kernelspec": {
   "display_name": "river_gpt-kernel",
   "language": "python",
   "name": "river_gpt-kernel"
  },
  "language_info": {
   "codemirror_mode": {
    "name": "ipython",
    "version": 3
   },
   "file_extension": ".py",
   "mimetype": "text/x-python",
   "name": "python",
   "nbconvert_exporter": "python",
   "pygments_lexer": "ipython3",
   "version": "3.8.3"
  }
 },
 "nbformat": 4,
 "nbformat_minor": 4
}
