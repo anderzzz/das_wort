{
 "cells": [
  {
   "cell_type": "markdown",
   "metadata": {},
   "source": [
    "# Text Source HoolaBaloo\n",
    "Sales words"
   ]
  },
  {
   "cell_type": "code",
   "execution_count": null,
   "metadata": {},
   "outputs": [],
   "source": [
    "!pip install openai, pandas, requests"
   ]
  },
  {
   "cell_type": "code",
   "execution_count": 2,
   "metadata": {},
   "outputs": [
    {
     "ename": "ModuleNotFoundError",
     "evalue": "No module named 'requests'",
     "output_type": "error",
     "traceback": [
      "\u001b[0;31m---------------------------------------------------------------------------\u001b[0m",
      "\u001b[0;31mModuleNotFoundError\u001b[0m                       Traceback (most recent call last)",
      "Cell \u001b[0;32mIn[2], line 1\u001b[0m\n\u001b[0;32m----> 1\u001b[0m \u001b[38;5;28;01mimport\u001b[39;00m \u001b[38;5;21;01mrequests\u001b[39;00m\n",
      "\u001b[0;31mModuleNotFoundError\u001b[0m: No module named 'requests'"
     ]
    }
   ],
   "source": [
    "from typing import Optional, List\n",
    "from datetime import date\n",
    "\n",
    "import requests\n",
    "import openai\n",
    "import pandas as pd\n",
    "\n",
    "from feedparser import parse as parse_xml"
   ]
  },
  {
   "cell_type": "code",
   "execution_count": null,
   "metadata": {},
   "outputs": [],
   "source": [
    "PUBMED_API = {\n",
    "    'base_url' : 'https://eutils.ncbi.nlm.nih.gov/entrez/eutils/',\n",
    "    'search' : 'esearch.fcgi'\n",
    "}"
   ]
  },
  {
   "cell_type": "code",
   "execution_count": null,
   "metadata": {},
   "outputs": [],
   "source": [
    "def create_basic_search_term(author: Optional[str]=None, \n",
    "                             title: Optional[str]=None, \n",
    "                             abstract: Optional[str]=None, \n",
    "                             published_after_date: Optional[date]=None):\n",
    "    term = []\n",
    "    if not author is None:\n",
    "        term.append('{}[Author]'.format(author))\n",
    "    if not title is None:\n",
    "        term.append('{}[Title]'.format(title))\n",
    "    if not abstract is None:\n",
    "        term.append('{}[Title/Abstract]'.format(abstract))\n",
    "    if not published_after_date is None:\n",
    "        term.append('{}[Date]'.format(FOOBAR(published_after_date)))\n",
    "        \n",
    "    if len(term) == 0:\n",
    "        raise ValueError('No input values given')\n",
    "        \n",
    "    return '+AND+'.join(term)\n",
    "\n",
    "search_term = create_basic_search_term(title='hello')"
   ]
  },
  {
   "cell_type": "code",
   "execution_count": null,
   "metadata": {},
   "outputs": [],
   "source": [
    "def read_from_api(**kwargs):\n",
    "    url = '{}{}?db=pubmed'.format(PUBMED_API['base_url'], PUBMED_API['search'])\n",
    "    for key, value in kwargs:\n",
    "        url += '&{}={}'.format(key, value)\n",
    "    obj, status_code = request.get(url=url)\n",
    "    if status_code != 200:\n",
    "        print ('Status code {} received!'.format(status_code))\n",
    "        print ('Error message: ')\n",
    "        \n",
    "    return obj"
   ]
  },
  {
   "cell_type": "code",
   "execution_count": null,
   "metadata": {},
   "outputs": [],
   "source": [
    "search_result = parse_xml(obj)\n",
    "#\n",
    "# EXTRACT AND STRINGIFY\n",
    "#\n",
    "ids_str = ''"
   ]
  },
  {
   "cell_type": "code",
   "execution_count": null,
   "metadata": {},
   "outputs": [],
   "source": [
    "url = '{}{}?db=pubmed&id={}'.format(PUBMED_API['base_url'], PUBMED_API['search'], ids_str)\n",
    "obj, status_code = requests.get(url=url, **kwargs)\n"
   ]
  }
 ],
 "metadata": {
  "kernelspec": {
   "display_name": "river_gpt-kernel",
   "language": "python",
   "name": "river_gpt-kernel"
  },
  "language_info": {
   "codemirror_mode": {
    "name": "ipython",
    "version": 3
   },
   "file_extension": ".py",
   "mimetype": "text/x-python",
   "name": "python",
   "nbconvert_exporter": "python",
   "pygments_lexer": "ipython3",
   "version": "3.8.3"
  }
 },
 "nbformat": 4,
 "nbformat_minor": 4
}
