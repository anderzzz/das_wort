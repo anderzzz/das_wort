{
 "cells": [
  {
   "cell_type": "markdown",
   "metadata": {},
   "source": [
    "# Text Source PubMed\n",
    "Sales words"
   ]
  },
  {
   "cell_type": "code",
   "execution_count": 6,
   "metadata": {},
   "outputs": [
    {
     "name": "stdout",
     "output_type": "stream",
     "text": [
      "Requirement already satisfied: openai in /Users/andersohrn/opt/anaconda3/lib/python3.8/site-packages (0.27.8)\n",
      "Requirement already satisfied: tqdm in /Users/andersohrn/opt/anaconda3/lib/python3.8/site-packages (from openai) (4.64.0)\n",
      "Requirement already satisfied: aiohttp in /Users/andersohrn/opt/anaconda3/lib/python3.8/site-packages (from openai) (3.8.1)\n",
      "Requirement already satisfied: requests>=2.20 in /Users/andersohrn/opt/anaconda3/lib/python3.8/site-packages (from openai) (2.27.1)\n",
      "Requirement already satisfied: frozenlist>=1.1.1 in /Users/andersohrn/opt/anaconda3/lib/python3.8/site-packages (from aiohttp->openai) (1.3.0)\n",
      "Requirement already satisfied: async-timeout<5.0,>=4.0.0a3 in /Users/andersohrn/opt/anaconda3/lib/python3.8/site-packages (from aiohttp->openai) (4.0.2)\n",
      "Requirement already satisfied: attrs>=17.3.0 in /Users/andersohrn/opt/anaconda3/lib/python3.8/site-packages (from aiohttp->openai) (19.3.0)\n",
      "Requirement already satisfied: multidict<7.0,>=4.5 in /Users/andersohrn/opt/anaconda3/lib/python3.8/site-packages (from aiohttp->openai) (6.0.2)\n",
      "Requirement already satisfied: aiosignal>=1.1.2 in /Users/andersohrn/opt/anaconda3/lib/python3.8/site-packages (from aiohttp->openai) (1.2.0)\n",
      "Requirement already satisfied: charset-normalizer<3.0,>=2.0 in /Users/andersohrn/opt/anaconda3/lib/python3.8/site-packages (from aiohttp->openai) (2.0.12)\n",
      "Requirement already satisfied: yarl<2.0,>=1.0 in /Users/andersohrn/opt/anaconda3/lib/python3.8/site-packages (from aiohttp->openai) (1.7.2)\n",
      "Requirement already satisfied: certifi>=2017.4.17 in /Users/andersohrn/opt/anaconda3/lib/python3.8/site-packages (from requests>=2.20->openai) (2020.6.20)\n",
      "Requirement already satisfied: urllib3<1.27,>=1.21.1 in /Users/andersohrn/opt/anaconda3/lib/python3.8/site-packages (from requests>=2.20->openai) (1.26.10)\n",
      "Requirement already satisfied: idna<4,>=2.5; python_version >= \"3\" in /Users/andersohrn/opt/anaconda3/lib/python3.8/site-packages (from requests>=2.20->openai) (2.10)\n",
      "Requirement already satisfied: pandas in /Users/andersohrn/opt/anaconda3/lib/python3.8/site-packages (1.4.4)\n",
      "Requirement already satisfied: numpy>=1.18.5; platform_machine != \"aarch64\" and platform_machine != \"arm64\" and python_version < \"3.10\" in /Users/andersohrn/opt/anaconda3/lib/python3.8/site-packages (from pandas) (1.18.5)\n",
      "Requirement already satisfied: python-dateutil>=2.8.1 in /Users/andersohrn/opt/anaconda3/lib/python3.8/site-packages (from pandas) (2.8.1)\n",
      "Requirement already satisfied: pytz>=2020.1 in /Users/andersohrn/opt/anaconda3/lib/python3.8/site-packages (from pandas) (2020.1)\n",
      "Requirement already satisfied: six>=1.5 in /Users/andersohrn/opt/anaconda3/lib/python3.8/site-packages (from python-dateutil>=2.8.1->pandas) (1.15.0)\n",
      "Requirement already satisfied: scipy in /Users/andersohrn/opt/anaconda3/lib/python3.8/site-packages (1.5.0)\n",
      "Requirement already satisfied: numpy>=1.14.5 in /Users/andersohrn/opt/anaconda3/lib/python3.8/site-packages (from scipy) (1.18.5)\n",
      "Requirement already satisfied: requests in /Users/andersohrn/opt/anaconda3/lib/python3.8/site-packages (2.27.1)\n",
      "Requirement already satisfied: urllib3<1.27,>=1.21.1 in /Users/andersohrn/opt/anaconda3/lib/python3.8/site-packages (from requests) (1.26.10)\n",
      "Requirement already satisfied: certifi>=2017.4.17 in /Users/andersohrn/opt/anaconda3/lib/python3.8/site-packages (from requests) (2020.6.20)\n",
      "Requirement already satisfied: idna<4,>=2.5; python_version >= \"3\" in /Users/andersohrn/opt/anaconda3/lib/python3.8/site-packages (from requests) (2.10)\n",
      "Requirement already satisfied: charset-normalizer~=2.0.0; python_version >= \"3\" in /Users/andersohrn/opt/anaconda3/lib/python3.8/site-packages (from requests) (2.0.12)\n",
      "Requirement already satisfied: numexpr in /Users/andersohrn/opt/anaconda3/lib/python3.8/site-packages (2.7.1)\n",
      "Requirement already satisfied: numpy>=1.7 in /Users/andersohrn/opt/anaconda3/lib/python3.8/site-packages (from numexpr) (1.18.5)\n"
     ]
    }
   ],
   "source": [
    "!python -m pip install openai\n",
    "!python -m pip install pandas\n",
    "!python -m pip install scipy\n",
    "!python -m pip install requests\n",
    "!python -m pip install numexpr"
   ]
  },
  {
   "cell_type": "code",
   "execution_count": 7,
   "metadata": {},
   "outputs": [
    {
     "name": "stdout",
     "output_type": "stream",
     "text": [
      "['/Users/andersohrn/Development/das_wort', '/Users/andersohrn/opt/anaconda3/lib/python38.zip', '/Users/andersohrn/opt/anaconda3/lib/python3.8', '/Users/andersohrn/opt/anaconda3/lib/python3.8/lib-dynload', '', '/Users/andersohrn/river_chatgpt/river_gpt/lib/python3.8/site-packages', '/Users/andersohrn/opt/anaconda3/lib/python3.8/site-packages', '/Users/andersohrn/opt/anaconda3/lib/python3.8/site-packages']\n"
     ]
    }
   ],
   "source": [
    "import sys\n",
    "sys.path.append('/Users/andersohrn/opt/anaconda3/lib/python3.8/site-packages')\n",
    "print (sys.path)"
   ]
  },
  {
   "cell_type": "code",
   "execution_count": 22,
   "metadata": {},
   "outputs": [],
   "source": [
    "from typing import Optional, List\n",
    "from datetime import date\n",
    "\n",
    "import requests\n",
    "import openai\n",
    "import pandas as pd\n",
    "from xml.etree import ElementTree as ET"
   ]
  },
  {
   "cell_type": "code",
   "execution_count": 35,
   "metadata": {},
   "outputs": [],
   "source": [
    "PUBMED_APIs = {\n",
    "    'standard' : {\n",
    "        'base_url': 'https://eutils.ncbi.nlm.nih.gov/entrez/eutils/',\n",
    "        'apis': {\n",
    "            'search' : 'esearch.fcgi',\n",
    "            'fetch' : 'efetch.fcgi'\n",
    "        }\n",
    "    },\n",
    "    'open_access': {\n",
    "        'base_url': 'https://www.ncbi.nlm.nih.gov/research/bionlp/RESTful/pmcoa.cgi/BioC_json/'\n",
    "    }\n",
    "}\n",
    "\n",
    "KEY_SHORTHAND = {\n",
    "    'n_search_results' : ('eSearchResult','@children','Count'),\n",
    "    'ids_from_search' : ('eSearchResult', '@children','IdList', '@children','Id'),\n",
    "    'abstract_text' : ('PubmedArticleSet','@children','PubmedArticle','@children','MedlineCitation','@children','Article','@children','Abstract','@children','AbstractText','@text')\n",
    "}"
   ]
  },
  {
   "cell_type": "code",
   "execution_count": 24,
   "metadata": {},
   "outputs": [],
   "source": [
    "def create_basic_search_term(author: Optional[str]=None, \n",
    "                             title: Optional[str]=None, \n",
    "                             abstract: Optional[str]=None, \n",
    "                             published_after_date: Optional[date]=None):\n",
    "    term = []\n",
    "    if not author is None:\n",
    "        term.append('{}[Author]'.format(author))\n",
    "    if not title is None:\n",
    "        term.append('{}[Title]'.format(title))\n",
    "    if not abstract is None:\n",
    "        term.append('{}[Title/Abstract]'.format(abstract))\n",
    "    if not published_after_date is None:\n",
    "        term.append('{}[Date]'.format(FOOBAR(published_after_date)))\n",
    "        \n",
    "    if len(term) == 0:\n",
    "        raise ValueError('No input values given')\n",
    "        \n",
    "    return '+AND+'.join(term)\n",
    "\n",
    "search_term = create_basic_search_term(title='HER2-positive', author='Akihito Kawazoe')"
   ]
  },
  {
   "cell_type": "code",
   "execution_count": 64,
   "metadata": {},
   "outputs": [
    {
     "name": "stdout",
     "output_type": "stream",
     "text": [
      "URL to call: https://eutils.ncbi.nlm.nih.gov/entrez/eutils/esearch.fcgi?db=pubmed&term=Akihito Kawazoe[Author]+AND+HER2-positive[Title]\n"
     ]
    }
   ],
   "source": [
    "def do_search_via_api(search_term: str):\n",
    "    url = '{}{}?db=pubmed'.format(\n",
    "        PUBMED_APIs['standard']['base_url'], \n",
    "        PUBMED_APIs['standard']['apis']['search']\n",
    "    )\n",
    "    url_full = '{}&term={}'.format(url, search_term)\n",
    "    print('URL to call: {}'.format(url_full))\n",
    "    \n",
    "    r = requests.get(url=url_full)\n",
    "    if r.status_code != 200:\n",
    "        print ('Status code {} received!'.format(status_code))\n",
    "        print ('Error message: {}'.format(r.content))\n",
    "        \n",
    "    return r.content\n",
    "\n",
    "pubmed_object = do_search_via_api(search_term)"
   ]
  },
  {
   "cell_type": "code",
   "execution_count": 67,
   "metadata": {},
   "outputs": [
    {
     "name": "stdout",
     "output_type": "stream",
     "text": [
      "[<Element 'Id' at 0x7fc3ae64fc20>]\n"
     ]
    }
   ],
   "source": [
    "def element_to_dict(element):\n",
    "    '''Convert an ET tree created from XML to dictionary\n",
    "\n",
    "    '''\n",
    "    result = {}\n",
    "    tag = element.tag\n",
    "    text = element.text.strip() if element.text else None\n",
    "    attributes = element.attrib\n",
    "    children = [element_to_dict(child) for child in element]\n",
    "    if not attributes and not children:\n",
    "        result[tag] = text\n",
    "    else:\n",
    "        result[tag] = {}\n",
    "        if attributes:\n",
    "            result[tag][\"@attributes\"] = attributes\n",
    "        if children:\n",
    "            result[tag][\"@children\"] = children\n",
    "        if text:\n",
    "            result[tag][\"@text\"] = text\n",
    "    return result\n",
    "\n",
    "root = ET.fromstring(pubmed_object)\n",
    "print ([x.text for x in root.findall('.//Id'))]\n",
    "root_dict = element_to_dict(root)"
   ]
  },
  {
   "cell_type": "code",
   "execution_count": 36,
   "metadata": {},
   "outputs": [
    {
     "name": "stdout",
     "output_type": "stream",
     "text": [
      "{'eSearchResult': {'@children': [{'Count': '1'}, {'RetMax': '1'}, {'RetStart': '0'}, {'IdList': {'@children': [{'Id': '34912120'}]}}, {'TranslationSet': {'@children': [{'Translation': {'@children': [{'From': 'Akihito Kawazoe[Author]'}, {'To': 'Kawazoe, Akihito[Full Author Name]'}]}}]}}, {'QueryTranslation': 'kawazoe, akihito[Author] AND \"HER2-positive\"[Title]'}]}}\n",
      "[['34912120']]\n"
     ]
    }
   ],
   "source": [
    "def get_element(obj, keys):\n",
    "    # If the list of keys is empty, return the object itself\n",
    "    if not keys:\n",
    "        return obj\n",
    "    # If the list of keys has only one element, return the value associated with that key\n",
    "    elif len(keys) == 1:\n",
    "        return obj[keys[0]]\n",
    "    # If the list of keys has more than one element, get the first key and the rest of the keys\n",
    "    else:\n",
    "        key = keys[0]\n",
    "        rest = keys[1:]\n",
    "        # If the value associated with the first key is a dictionary, recursively call the function with that value and the rest of the keys\n",
    "        if isinstance(obj[key], dict):\n",
    "            return get_element(obj[key], rest)\n",
    "        # If the value associated with the first key is a list, iterate over the list and filter out the elements that match the rest of the keys\n",
    "        elif isinstance(obj[key], list):\n",
    "            return [get_element(item, rest) for item in obj[key] if rest[0] in item]\n",
    "        # If the value associated with the first key is neither a dictionary nor a list, raise an exception\n",
    "        else:\n",
    "            raise TypeError(\"Invalid object type\")\n",
    "            \n",
    "print (root_dict)\n",
    "print (get_element(root_dict, KEY_SHORTHAND['ids_from_search']))"
   ]
  },
  {
   "cell_type": "code",
   "execution_count": 53,
   "metadata": {},
   "outputs": [
    {
     "name": "stdout",
     "output_type": "stream",
     "text": [
      "URL to call: https://eutils.ncbi.nlm.nih.gov/entrez/eutils/efetch.fcgi?db=pubmed&rettype=Abstract&id=34912120\n"
     ]
    }
   ],
   "source": [
    "def get_abstracts_via_api(ids: List[str]):\n",
    "    url = '{}{}?db=pubmed'.format(\n",
    "        PUBMED_APIs['standard']['base_url'], \n",
    "        PUBMED_APIs['standard']['apis']['fetch']\n",
    "    )\n",
    "    url_full = '{}&rettype=Abstract&id={}'.format(url, ','.join(ids))\n",
    "    print('URL to call: {}'.format(url_full))\n",
    "    \n",
    "    r = requests.get(url=url_full)\n",
    "    if r.status_code != 200:\n",
    "        print ('Status code {} received!'.format(status_code))\n",
    "        print ('Error message: {}'.format(r.content))\n",
    "        \n",
    "    return r.content\n",
    "\n",
    "pubmed_abstract_object = get_abstracts_via_api(ids=['34912120'])"
   ]
  },
  {
   "cell_type": "code",
   "execution_count": 54,
   "metadata": {},
   "outputs": [],
   "source": [
    "root = ET.fromstring(pubmed_abstract_object)\n",
    "root_dict = element_to_dict(root)"
   ]
  },
  {
   "cell_type": "code",
   "execution_count": 63,
   "metadata": {},
   "outputs": [
    {
     "data": {
      "text/plain": [
       "'Human epidermal growth factor receptor 2 (HER2,\\xa0also known as ERBB2) amplification or overexpression occurs in approximately 20% of advanced gastric or gastro-oesophageal junction adenocarcinomas'"
      ]
     },
     "execution_count": 63,
     "metadata": {},
     "output_type": "execute_result"
    }
   ],
   "source": [
    "root.findall('.//AbstractText')[0].text"
   ]
  },
  {
   "cell_type": "code",
   "execution_count": 52,
   "metadata": {},
   "outputs": [
    {
     "name": "stdout",
     "output_type": "stream",
     "text": [
      "[[[[['Human epidermal growth factor receptor 2 (HER2,\\xa0also known as ERBB2) amplification or overexpression occurs in approximately 20% of advanced gastric or gastro-oesophageal junction adenocarcinomas']]]]]\n"
     ]
    }
   ],
   "source": [
    "print(get_element(root_dict, ('PubmedArticleSet','@children','PubmedArticle','@children','MedlineCitation','@children','Article','@children','Abstract','@children','AbstractText','@text')))"
   ]
  },
  {
   "cell_type": "code",
   "execution_count": 51,
   "metadata": {},
   "outputs": [
    {
     "name": "stdout",
     "output_type": "stream",
     "text": [
      "[[[[['Human epidermal growth factor receptor 2 (HER2,\\xa0also known as ERBB2) amplification or overexpression occurs in approximately 20% of advanced gastric or gastro-oesophageal junction adenocarcinomas']]]]]\n"
     ]
    }
   ],
   "source": []
  },
  {
   "cell_type": "code",
   "execution_count": null,
   "metadata": {},
   "outputs": [],
   "source": []
  }
 ],
 "metadata": {
  "kernelspec": {
   "display_name": "river_gpt-kernel",
   "language": "python",
   "name": "river_gpt-kernel"
  },
  "language_info": {
   "codemirror_mode": {
    "name": "ipython",
    "version": 3
   },
   "file_extension": ".py",
   "mimetype": "text/x-python",
   "name": "python",
   "nbconvert_exporter": "python",
   "pygments_lexer": "ipython3",
   "version": "3.8.3"
  }
 },
 "nbformat": 4,
 "nbformat_minor": 4
}
