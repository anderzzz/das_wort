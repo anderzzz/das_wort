{
 "cells": [
  {
   "cell_type": "markdown",
   "metadata": {},
   "source": [
    "# Text Source PubMed\n",
    "Sales words"
   ]
  },
  {
   "cell_type": "code",
   "execution_count": 6,
   "metadata": {},
   "outputs": [
    {
     "name": "stdout",
     "output_type": "stream",
     "text": [
      "Requirement already satisfied: openai in /Users/andersohrn/opt/anaconda3/lib/python3.8/site-packages (0.27.8)\n",
      "Requirement already satisfied: tqdm in /Users/andersohrn/opt/anaconda3/lib/python3.8/site-packages (from openai) (4.64.0)\n",
      "Requirement already satisfied: aiohttp in /Users/andersohrn/opt/anaconda3/lib/python3.8/site-packages (from openai) (3.8.1)\n",
      "Requirement already satisfied: requests>=2.20 in /Users/andersohrn/opt/anaconda3/lib/python3.8/site-packages (from openai) (2.27.1)\n",
      "Requirement already satisfied: frozenlist>=1.1.1 in /Users/andersohrn/opt/anaconda3/lib/python3.8/site-packages (from aiohttp->openai) (1.3.0)\n",
      "Requirement already satisfied: async-timeout<5.0,>=4.0.0a3 in /Users/andersohrn/opt/anaconda3/lib/python3.8/site-packages (from aiohttp->openai) (4.0.2)\n",
      "Requirement already satisfied: attrs>=17.3.0 in /Users/andersohrn/opt/anaconda3/lib/python3.8/site-packages (from aiohttp->openai) (19.3.0)\n",
      "Requirement already satisfied: multidict<7.0,>=4.5 in /Users/andersohrn/opt/anaconda3/lib/python3.8/site-packages (from aiohttp->openai) (6.0.2)\n",
      "Requirement already satisfied: aiosignal>=1.1.2 in /Users/andersohrn/opt/anaconda3/lib/python3.8/site-packages (from aiohttp->openai) (1.2.0)\n",
      "Requirement already satisfied: charset-normalizer<3.0,>=2.0 in /Users/andersohrn/opt/anaconda3/lib/python3.8/site-packages (from aiohttp->openai) (2.0.12)\n",
      "Requirement already satisfied: yarl<2.0,>=1.0 in /Users/andersohrn/opt/anaconda3/lib/python3.8/site-packages (from aiohttp->openai) (1.7.2)\n",
      "Requirement already satisfied: certifi>=2017.4.17 in /Users/andersohrn/opt/anaconda3/lib/python3.8/site-packages (from requests>=2.20->openai) (2020.6.20)\n",
      "Requirement already satisfied: urllib3<1.27,>=1.21.1 in /Users/andersohrn/opt/anaconda3/lib/python3.8/site-packages (from requests>=2.20->openai) (1.26.10)\n",
      "Requirement already satisfied: idna<4,>=2.5; python_version >= \"3\" in /Users/andersohrn/opt/anaconda3/lib/python3.8/site-packages (from requests>=2.20->openai) (2.10)\n",
      "Requirement already satisfied: pandas in /Users/andersohrn/opt/anaconda3/lib/python3.8/site-packages (1.4.4)\n",
      "Requirement already satisfied: numpy>=1.18.5; platform_machine != \"aarch64\" and platform_machine != \"arm64\" and python_version < \"3.10\" in /Users/andersohrn/opt/anaconda3/lib/python3.8/site-packages (from pandas) (1.18.5)\n",
      "Requirement already satisfied: python-dateutil>=2.8.1 in /Users/andersohrn/opt/anaconda3/lib/python3.8/site-packages (from pandas) (2.8.1)\n",
      "Requirement already satisfied: pytz>=2020.1 in /Users/andersohrn/opt/anaconda3/lib/python3.8/site-packages (from pandas) (2020.1)\n",
      "Requirement already satisfied: six>=1.5 in /Users/andersohrn/opt/anaconda3/lib/python3.8/site-packages (from python-dateutil>=2.8.1->pandas) (1.15.0)\n",
      "Requirement already satisfied: scipy in /Users/andersohrn/opt/anaconda3/lib/python3.8/site-packages (1.5.0)\n",
      "Requirement already satisfied: numpy>=1.14.5 in /Users/andersohrn/opt/anaconda3/lib/python3.8/site-packages (from scipy) (1.18.5)\n",
      "Requirement already satisfied: requests in /Users/andersohrn/opt/anaconda3/lib/python3.8/site-packages (2.27.1)\n",
      "Requirement already satisfied: urllib3<1.27,>=1.21.1 in /Users/andersohrn/opt/anaconda3/lib/python3.8/site-packages (from requests) (1.26.10)\n",
      "Requirement already satisfied: certifi>=2017.4.17 in /Users/andersohrn/opt/anaconda3/lib/python3.8/site-packages (from requests) (2020.6.20)\n",
      "Requirement already satisfied: idna<4,>=2.5; python_version >= \"3\" in /Users/andersohrn/opt/anaconda3/lib/python3.8/site-packages (from requests) (2.10)\n",
      "Requirement already satisfied: charset-normalizer~=2.0.0; python_version >= \"3\" in /Users/andersohrn/opt/anaconda3/lib/python3.8/site-packages (from requests) (2.0.12)\n",
      "Requirement already satisfied: numexpr in /Users/andersohrn/opt/anaconda3/lib/python3.8/site-packages (2.7.1)\n",
      "Requirement already satisfied: numpy>=1.7 in /Users/andersohrn/opt/anaconda3/lib/python3.8/site-packages (from numexpr) (1.18.5)\n"
     ]
    }
   ],
   "source": [
    "!python -m pip install openai\n",
    "!python -m pip install pandas\n",
    "!python -m pip install scipy\n",
    "!python -m pip install requests\n",
    "!python -m pip install numexpr"
   ]
  },
  {
   "cell_type": "code",
   "execution_count": 7,
   "metadata": {},
   "outputs": [
    {
     "name": "stdout",
     "output_type": "stream",
     "text": [
      "['/Users/andersohrn/Development/das_wort', '/Users/andersohrn/opt/anaconda3/lib/python38.zip', '/Users/andersohrn/opt/anaconda3/lib/python3.8', '/Users/andersohrn/opt/anaconda3/lib/python3.8/lib-dynload', '', '/Users/andersohrn/river_chatgpt/river_gpt/lib/python3.8/site-packages', '/Users/andersohrn/opt/anaconda3/lib/python3.8/site-packages', '/Users/andersohrn/opt/anaconda3/lib/python3.8/site-packages']\n"
     ]
    }
   ],
   "source": [
    "import sys\n",
    "sys.path.append('/Users/andersohrn/opt/anaconda3/lib/python3.8/site-packages')\n",
    "print (sys.path)"
   ]
  },
  {
   "cell_type": "code",
   "execution_count": 22,
   "metadata": {},
   "outputs": [],
   "source": [
    "from typing import Optional, List\n",
    "from datetime import date\n",
    "\n",
    "import requests\n",
    "import openai\n",
    "import pandas as pd\n",
    "from xml.etree import ElementTree as ET"
   ]
  },
  {
   "cell_type": "code",
   "execution_count": 70,
   "metadata": {},
   "outputs": [],
   "source": [
    "PUBMED_APIs = {\n",
    "    'standard' : {\n",
    "        'base_url': 'https://eutils.ncbi.nlm.nih.gov/entrez/eutils/',\n",
    "        'apis': {\n",
    "            'search' : 'esearch.fcgi',\n",
    "            'fetch' : 'efetch.fcgi'\n",
    "        }\n",
    "    },\n",
    "    'open_access': {\n",
    "        'base_url': 'https://www.ncbi.nlm.nih.gov/research/bionlp/RESTful/pmcoa.cgi/BioC_json/'\n",
    "    }\n",
    "}"
   ]
  },
  {
   "cell_type": "code",
   "execution_count": 71,
   "metadata": {},
   "outputs": [],
   "source": [
    "def create_basic_search_term(author: Optional[str]=None, \n",
    "                             title: Optional[str]=None, \n",
    "                             abstract: Optional[str]=None, \n",
    "                             published_after_date: Optional[date]=None):\n",
    "    term = []\n",
    "    if not author is None:\n",
    "        term.append('{}[Author]'.format(author))\n",
    "    if not title is None:\n",
    "        term.append('{}[Title]'.format(title))\n",
    "    if not abstract is None:\n",
    "        term.append('{}[Title/Abstract]'.format(abstract))\n",
    "    if not published_after_date is None:\n",
    "        term.append('{}[Date]'.format(FOOBAR(published_after_date)))\n",
    "        \n",
    "    if len(term) == 0:\n",
    "        raise ValueError('No input values given')\n",
    "        \n",
    "    return '+AND+'.join(term)\n",
    "\n",
    "search_term = create_basic_search_term(title='HER2-positive', author='Akihito Kawazoe')"
   ]
  },
  {
   "cell_type": "code",
   "execution_count": 72,
   "metadata": {},
   "outputs": [
    {
     "name": "stdout",
     "output_type": "stream",
     "text": [
      "URL to call: https://eutils.ncbi.nlm.nih.gov/entrez/eutils/esearch.fcgi?db=pubmed&term=Akihito Kawazoe[Author]+AND+HER2-positive[Title]\n"
     ]
    }
   ],
   "source": [
    "def do_search_via_api(search_term: str):\n",
    "    url = '{}{}?db=pubmed'.format(\n",
    "        PUBMED_APIs['standard']['base_url'], \n",
    "        PUBMED_APIs['standard']['apis']['search']\n",
    "    )\n",
    "    url_full = '{}&term={}'.format(url, search_term)\n",
    "    print('URL to call: {}'.format(url_full))\n",
    "    \n",
    "    r = requests.get(url=url_full)\n",
    "    if r.status_code != 200:\n",
    "        print ('Status code {} received!'.format(status_code))\n",
    "        print ('Error message: {}'.format(r.content))\n",
    "        \n",
    "    return r.content\n",
    "\n",
    "pubmed_object = do_search_via_api(search_term)"
   ]
  },
  {
   "cell_type": "code",
   "execution_count": 73,
   "metadata": {},
   "outputs": [
    {
     "name": "stdout",
     "output_type": "stream",
     "text": [
      "['34912120']\n"
     ]
    }
   ],
   "source": [
    "root = ET.fromstring(pubmed_object)\n",
    "pubmed_ids = [x.text for x in root.findall('.//Id')]\n",
    "print(pubmed_ids)"
   ]
  },
  {
   "cell_type": "code",
   "execution_count": 74,
   "metadata": {},
   "outputs": [
    {
     "name": "stdout",
     "output_type": "stream",
     "text": [
      "URL to call: https://eutils.ncbi.nlm.nih.gov/entrez/eutils/efetch.fcgi?db=pubmed&rettype=Abstract&id=34912120\n"
     ]
    }
   ],
   "source": [
    "def get_abstracts_via_api(ids: List[str]):\n",
    "    url = '{}{}?db=pubmed'.format(\n",
    "        PUBMED_APIs['standard']['base_url'], \n",
    "        PUBMED_APIs['standard']['apis']['fetch']\n",
    "    )\n",
    "    url_full = '{}&rettype=Abstract&id={}'.format(url, ','.join(ids))\n",
    "    print('URL to call: {}'.format(url_full))\n",
    "    \n",
    "    r = requests.get(url=url_full)\n",
    "    if r.status_code != 200:\n",
    "        print ('Status code {} received!'.format(status_code))\n",
    "        print ('Error message: {}'.format(r.content))\n",
    "        \n",
    "    return r.content\n",
    "\n",
    "pubmed_abstract_object = get_abstracts_via_api(ids=['34912120'])"
   ]
  },
  {
   "cell_type": "code",
   "execution_count": 92,
   "metadata": {},
   "outputs": [],
   "source": [
    "root = ET.fromstring(pubmed_abstract_object)\n",
    "root_dict = element_to_dict(root)"
   ]
  },
  {
   "cell_type": "code",
   "execution_count": 95,
   "metadata": {},
   "outputs": [
    {
     "name": "stdout",
     "output_type": "stream",
     "text": [
      "Human epidermal growth factor receptor 2 (HER2, also known as ERBB2) amplification or overexpression occurs in approximately 20% of advanced gastric or gastro-oesophageal junction adenocarcinomas1-3. More than a decade ago, combination therapy with the anti-HER2 antibody trastuzumab and chemotherapy became the standard first-line treatment for patients with these types of tumours4. Although adding the anti-programmed death 1 (PD-1) antibody pembrolizumab to chemotherapy does not significantly improve efficacy in advanced HER2-negative gastric cancer5, there are preclinical6-19 and clinical20,21 rationales for adding pembrolizumab in HER2-positive disease. Here we describe results of the protocol-specified first interim analysis of the randomized, double-blind, placebo-controlled phase III KEYNOTE-811 study of pembrolizumab plus trastuzumab and chemotherapy for unresectable or metastatic, HER2-positive gastric or gastro-oesophageal junction adenocarcinoma22 ( https://clinicaltrials.gov , NCT03615326). We show that adding pembrolizumab to trastuzumab and chemotherapy markedly reduces tumour size, induces complete responses in some participants, and significantly improves objective response rate.\n"
     ]
    }
   ],
   "source": [
    "\n",
    "# Function to extract text recursively from an element\n",
    "def extract_text(element):\n",
    "    text = element.text or ''\n",
    "    for child in element:\n",
    "        text += extract_text(child)\n",
    "    text += element.tail or ''\n",
    "    return text\n",
    "\n",
    "# Find the AbstractText element and extract its text content\n",
    "abstract_texts = []\n",
    "abstract_text_elements = root.findall('.//AbstractText')\n",
    "for element in abstract_text_elements:\n",
    "    abstract_text extract_text(element)\n",
    "\n",
    "# Print the extracted text\n",
    "print(abstract_text)"
   ]
  },
  {
   "cell_type": "code",
   "execution_count": 52,
   "metadata": {},
   "outputs": [
    {
     "name": "stdout",
     "output_type": "stream",
     "text": [
      "[[[[['Human epidermal growth factor receptor 2 (HER2,\\xa0also known as ERBB2) amplification or overexpression occurs in approximately 20% of advanced gastric or gastro-oesophageal junction adenocarcinomas']]]]]\n"
     ]
    }
   ],
   "source": [
    "print(get_element(root_dict, ('PubmedArticleSet','@children','PubmedArticle','@children','MedlineCitation','@children','Article','@children','Abstract','@children','AbstractText','@text')))"
   ]
  },
  {
   "cell_type": "code",
   "execution_count": 51,
   "metadata": {},
   "outputs": [
    {
     "name": "stdout",
     "output_type": "stream",
     "text": [
      "[[[[['Human epidermal growth factor receptor 2 (HER2,\\xa0also known as ERBB2) amplification or overexpression occurs in approximately 20% of advanced gastric or gastro-oesophageal junction adenocarcinomas']]]]]\n"
     ]
    }
   ],
   "source": []
  },
  {
   "cell_type": "code",
   "execution_count": null,
   "metadata": {},
   "outputs": [],
   "source": []
  }
 ],
 "metadata": {
  "kernelspec": {
   "display_name": "river_gpt-kernel",
   "language": "python",
   "name": "river_gpt-kernel"
  },
  "language_info": {
   "codemirror_mode": {
    "name": "ipython",
    "version": 3
   },
   "file_extension": ".py",
   "mimetype": "text/x-python",
   "name": "python",
   "nbconvert_exporter": "python",
   "pygments_lexer": "ipython3",
   "version": "3.8.3"
  }
 },
 "nbformat": 4,
 "nbformat_minor": 4
}
