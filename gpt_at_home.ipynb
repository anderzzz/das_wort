{
 "cells": [
  {
   "cell_type": "markdown",
   "metadata": {},
   "source": [
    "# Words We Like"
   ]
  },
  {
   "cell_type": "code",
   "execution_count": 1,
   "metadata": {},
   "outputs": [
    {
     "name": "stdout",
     "output_type": "stream",
     "text": [
      "Requirement already satisfied: openai in /Users/andersohrn/opt/anaconda3/lib/python3.8/site-packages (0.27.8)\n",
      "Requirement already satisfied: requests>=2.20 in /Users/andersohrn/opt/anaconda3/lib/python3.8/site-packages (from openai) (2.27.1)\n",
      "Requirement already satisfied: aiohttp in /Users/andersohrn/opt/anaconda3/lib/python3.8/site-packages (from openai) (3.8.1)\n",
      "Requirement already satisfied: tqdm in /Users/andersohrn/opt/anaconda3/lib/python3.8/site-packages (from openai) (4.64.0)\n",
      "Requirement already satisfied: idna<4,>=2.5; python_version >= \"3\" in /Users/andersohrn/opt/anaconda3/lib/python3.8/site-packages (from requests>=2.20->openai) (2.10)\n",
      "Requirement already satisfied: certifi>=2017.4.17 in /Users/andersohrn/opt/anaconda3/lib/python3.8/site-packages (from requests>=2.20->openai) (2020.6.20)\n",
      "Requirement already satisfied: urllib3<1.27,>=1.21.1 in /Users/andersohrn/opt/anaconda3/lib/python3.8/site-packages (from requests>=2.20->openai) (1.26.10)\n",
      "Requirement already satisfied: charset-normalizer~=2.0.0; python_version >= \"3\" in /Users/andersohrn/opt/anaconda3/lib/python3.8/site-packages (from requests>=2.20->openai) (2.0.12)\n",
      "Requirement already satisfied: async-timeout<5.0,>=4.0.0a3 in /Users/andersohrn/opt/anaconda3/lib/python3.8/site-packages (from aiohttp->openai) (4.0.2)\n",
      "Requirement already satisfied: frozenlist>=1.1.1 in /Users/andersohrn/opt/anaconda3/lib/python3.8/site-packages (from aiohttp->openai) (1.3.0)\n",
      "Requirement already satisfied: yarl<2.0,>=1.0 in /Users/andersohrn/opt/anaconda3/lib/python3.8/site-packages (from aiohttp->openai) (1.7.2)\n",
      "Requirement already satisfied: multidict<7.0,>=4.5 in /Users/andersohrn/opt/anaconda3/lib/python3.8/site-packages (from aiohttp->openai) (6.0.2)\n",
      "Requirement already satisfied: attrs>=17.3.0 in /Users/andersohrn/opt/anaconda3/lib/python3.8/site-packages (from aiohttp->openai) (19.3.0)\n",
      "Requirement already satisfied: aiosignal>=1.1.2 in /Users/andersohrn/opt/anaconda3/lib/python3.8/site-packages (from aiohttp->openai) (1.2.0)\n"
     ]
    }
   ],
   "source": [
    "!pip3 install openai"
   ]
  },
  {
   "cell_type": "code",
   "execution_count": null,
   "metadata": {},
   "outputs": [],
   "source": [
    "import os\n",
    "from typing import List, Dict, Optional\n",
    "\n",
    "import openai"
   ]
  },
  {
   "cell_type": "code",
   "execution_count": 2,
   "metadata": {},
   "outputs": [],
   "source": [
    "OPENAI_KEY_ENV_VAR = 'OPENAI_API_KEY'\n",
    "OPENAI_USER = 'Employee X'\n",
    "\n",
    "HOME_LABEL = 'The Home of the Family X in rural Manitoba, comprising three young kids, one father and one mother'"
   ]
  },
  {
   "cell_type": "code",
   "execution_count": null,
   "metadata": {},
   "outputs": [],
   "source": [
    "openai.api_key = os.environ.get(OPENAI_KEY_ENV_VAR)"
   ]
  },
  {
   "cell_type": "code",
   "execution_count": null,
   "metadata": {},
   "outputs": [],
   "source": [
    "class OpenAIChatCompletionError(Exception):\n",
    "    pass\n",
    "\n",
    "def send_request_to_openai_chat_completion(\n",
    "        messages: List[Dict[str, str]],\n",
    "        model: str = 'gpt-3.5-turbo',\n",
    "        functions: Optional[List[str]] = None,\n",
    "        function_call: str = 'auto',\n",
    "        temperature: float = 1.0,\n",
    "        max_tokens: int = 256,\n",
    "        top_p: float = 1.0,\n",
    "        frequency_penalty: float = 0.0,\n",
    "        presence_penalty: float = 0.0,\n",
    "        stop: Optional[List] = None,\n",
    "        user: Optional[str] = None,\n",
    "        n_completions: int = 1\n",
    ") -> OpenAIObject:\n",
    "    '''Function that converts calling arguments into a request to the OpenAI chat completion API.\n",
    "    Includes validation and exception handling\n",
    "\n",
    "    See https://platform.openai.com/docs/api-reference/chat/create\n",
    "\n",
    "    '''\n",
    "    for message in messages:\n",
    "        for key, value in message.items():\n",
    "            if not key in ['role', 'content', 'name', 'function_call']:\n",
    "                raise ValueError('Invalid key in message: {}'.format(key))\n",
    "            if key == 'role' and not value in ['system', 'user', 'assistant', 'function']:\n",
    "                raise ValueError('Invalid role in message: {}'.format(value))\n",
    "\n",
    "    kwargs = {\n",
    "        'model': model,\n",
    "        'messages': messages,\n",
    "        'functions': functions,\n",
    "        'function_call': function_call,\n",
    "        'temperature': temperature,\n",
    "        'max_tokens': max_tokens,\n",
    "        'top_p': top_p,\n",
    "        'frequency_penalty': frequency_penalty,\n",
    "        'presence_penalty': presence_penalty,\n",
    "        'stop': stop,\n",
    "        'user': user,\n",
    "        'n': n_completions\n",
    "    }\n",
    "    if functions is None:\n",
    "        del kwargs['functions']\n",
    "        del kwargs['function_call']\n",
    "    if stop is None:\n",
    "        del kwargs['stop']\n",
    "    if user is None:\n",
    "        del kwargs['user']\n",
    "\n",
    "    try:\n",
    "        openai_completion = openai.ChatCompletion.create(**kwargs)\n",
    "    except InvalidRequestError as e:\n",
    "        raise OpenAIChatCompletionError(\n",
    "            'Invalid request to OpenAI API. Check model parameters. The error message was: {}'.format(e))\n",
    "    except AuthenticationError as e:\n",
    "        raise OpenAIChatCompletionError(\n",
    "            'Authentication error. Check your API key. The error message was: {}'.format(e))\n",
    "    except PermissionError as e:\n",
    "        raise OpenAIChatCompletionError(\n",
    "            'Request exceed permissions. Check your API settings. The error message was: {}'.format(e))\n",
    "    except APIConnectionError as e:\n",
    "        raise OpenAIChatCompletionError(\n",
    "            'Unable to connect to API. Check your connection and API settings. The error message was: {}'.format(e))\n",
    "    except RateLimitError as e:\n",
    "        raise OpenAIChatCompletionError(\n",
    "            'Rate limit exceeded. The error message was: {}'.format(e))\n",
    "    except Exception as e:\n",
    "        raise OpenAIChatCompletionError(\n",
    "            'General OpenAI call error. The error message was: {}'.format(e))\n",
    "\n",
    "    return openai_completion\n"
   ]
  },
  {
   "cell_type": "code",
   "execution_count": null,
   "metadata": {},
   "outputs": [],
   "source": [
    "def get_sensor_state() -> Dict:\n",
    "    return {\n",
    "        'temperature indoor, sensor 1' : faker.sensors.get('temperature indoor')\n",
    "    }"
   ]
  },
  {
   "cell_type": "code",
   "execution_count": null,
   "metadata": {},
   "outputs": [],
   "source": [
    "def get_actuator_state() -> Dict:\n",
    "    return {\n",
    "        'thermostat 1' : faker.actuators.get('thermostat 1'),\n",
    "        'luminaire, bedroom' : faker.actuators.get('luminaire 1')\n",
    "    }"
   ]
  },
  {
   "cell_type": "code",
   "execution_count": null,
   "metadata": {},
   "outputs": [],
   "source": [
    "def set_actuator_state(**kwargs) -> bool:\n",
    "    faker.actuators.set(**kwargs)\n",
    "    return True"
   ]
  },
  {
   "cell_type": "code",
   "execution_count": null,
   "metadata": {},
   "outputs": [],
   "source": [
    "def translate_state() -> str:\n",
    "    description = 'At the present time, {} is in the following state:\\n'.format(HOME_LABEL)\n",
    "    for key, value in get_sensor_state():\n",
    "        description += '* The {} is at {}{}\\n'.format(key, value.x, value.unit)\n",
    "        \n",
    "    description = 'Furthermore, at the present time, actuators are set to:\\n'\n",
    "    for key, value in get_actuator_state():\n",
    "        description += '* The {} is at {}{}\\n'.format(key, value.x, value.unit)\n",
    "        \n",
    "    return description"
   ]
  }
 ],
 "metadata": {
  "kernelspec": {
   "display_name": "river_gpt-kernel",
   "language": "python",
   "name": "river_gpt-kernel"
  },
  "language_info": {
   "codemirror_mode": {
    "name": "ipython",
    "version": 3
   },
   "file_extension": ".py",
   "mimetype": "text/x-python",
   "name": "python",
   "nbconvert_exporter": "python",
   "pygments_lexer": "ipython3",
   "version": "3.8.3"
  }
 },
 "nbformat": 4,
 "nbformat_minor": 4
}
